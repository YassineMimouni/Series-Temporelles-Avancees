{
 "cells": [
  {
   "cell_type": "markdown",
   "metadata": {},
   "source": [
    "# Projet 1 : Arrêt optimal"
   ]
  },
  {
   "cell_type": "markdown",
   "metadata": {},
   "source": [
    "### Mimouni Yassine"
   ]
  },
  {
   "cell_type": "markdown",
   "metadata": {},
   "source": [
    "## Enoncé"
   ]
  },
  {
   "cell_type": "markdown",
   "metadata": {},
   "source": [
    "On considère une flotte de N pirogues de pêche au poulpe dans le lagon de Mayotte.  \n",
    "Toutes les pirogues partent en mer au même moment, chacune peut ramener au maximum un poulpe.  \n",
    "On note $T_i$ le temps nécessaire pour que la pirogue i capture un poulpe.  \n",
    "On suppose que les $(T_i)$$_{1≤i≤N}$ sont des variables aléatoires indépendantes de même loi exponentielle de paramètre 1.  \n",
    "On s’intéresse au problème d’arrêt suivant:  \n",
    "Au bout de combien de poulpes péchés est-il optimal de s’arrêter sachant qu’on gagne 1 à chaque fois qu’on attrape un poulpe\n",
    "et qu’on paye c ≥ 0 fois le temps total requis ?"
   ]
  },
  {
   "cell_type": "markdown",
   "metadata": {},
   "source": [
    "## Modélisation"
   ]
  },
  {
   "cell_type": "code",
   "execution_count": null,
   "metadata": {},
   "outputs": [],
   "source": []
  },
  {
   "cell_type": "code",
   "execution_count": null,
   "metadata": {},
   "outputs": [],
   "source": []
  },
  {
   "cell_type": "code",
   "execution_count": null,
   "metadata": {},
   "outputs": [],
   "source": []
  }
 ],
 "metadata": {
  "kernelspec": {
   "display_name": "Python 3",
   "language": "python",
   "name": "python3"
  },
  "language_info": {
   "codemirror_mode": {
    "name": "ipython",
    "version": 3
   },
   "file_extension": ".py",
   "mimetype": "text/x-python",
   "name": "python",
   "nbconvert_exporter": "python",
   "pygments_lexer": "ipython3",
   "version": "3.7.4"
  }
 },
 "nbformat": 4,
 "nbformat_minor": 2
}

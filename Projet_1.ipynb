{
 "cells": [
  {
   "cell_type": "code",
   "execution_count": 1,
   "metadata": {},
   "outputs": [],
   "source": [
    "import numpy as np"
   ]
  },
  {
   "cell_type": "markdown",
   "metadata": {},
   "source": [
    "# Projet 1 : Arrêt optimal"
   ]
  },
  {
   "cell_type": "markdown",
   "metadata": {},
   "source": [
    "### Mimouni Yassine"
   ]
  },
  {
   "cell_type": "markdown",
   "metadata": {},
   "source": [
    "## Enoncé"
   ]
  },
  {
   "cell_type": "markdown",
   "metadata": {},
   "source": [
    "On considère une flotte de N pirogues de pêche au poulpe dans le lagon de Mayotte.  \n",
    "Toutes les pirogues partent en mer au même moment, chacune peut ramener au maximum un poulpe.  \n",
    "  \n",
    "On note $T_i$ le temps nécessaire pour que la pirogue i capture un poulpe.   \n",
    "On suppose que les $(T_i)$$_{1≤i≤N}$ sont des variables aléatoires indépendantes de même loi exponentielle de paramètre 1.  \n",
    "  \n",
    "On s’intéresse au problème d’arrêt suivant :  \n",
    "Au bout de combien de poulpes péchés est-il optimal de s’arrêter sachant qu’on gagne 1 à chaque fois qu’on attrape un poulpe\n",
    "et qu’on paye c ≥ 0 fois le temps total requis ?"
   ]
  },
  {
   "cell_type": "markdown",
   "metadata": {},
   "source": [
    "## Partie 1 : Modélisation"
   ]
  },
  {
   "cell_type": "markdown",
   "metadata": {},
   "source": [
    "### Question 1)"
   ]
  },
  {
   "cell_type": "markdown",
   "metadata": {},
   "source": [
    "On pose : $T = (T_{1},..,T_{N})$ un vecteur aléatoire.  \n",
    "Soit $t = (t_1,...,t_N)$ un vecteur de $\\mathbb{R}^N$.  \n",
    "  \n",
    "Les $T_{(i)}$ sont indépendants pour tout $0 \\le n \\le N$ et de même loi exponentielle de paramètre 1.  \n",
    "  \n",
    "On en déduit la densité du vecteur T :  \n",
    "\\begin{align}\n",
    "f_T(t) & = f_{T_{(1)},..,T_{(N)}}(t_1,...,t_N)\\\\\n",
    "& = f_{T_{1}}(t_1)...f_{T_{N}}(t_N)\\\\\n",
    "& = \\exp(-\\sum_{i=1}^N t_i) \\mathbb{1}_{(0 \\le t_1 \\le ... \\le t_N)}\\end{align}"
   ]
  },
  {
   "cell_type": "markdown",
   "metadata": {},
   "source": [
    "### Question 2)"
   ]
  },
  {
   "cell_type": "markdown",
   "metadata": {},
   "source": [
    "On utilise un résultat lié à la loi de Laplace.  \n",
    "  \n",
    "**Théorème :**  \n",
    "Soient $X_1$ et $X_2$ deux variables aléatoires indépendantes suivant une loi exponentielle de paramètre $\\lambda_1$ et $\\lambda_2$ respectivement.  \n",
    "Alors, $\\lambda_1X_1 - \\lambda_2X_2$ suit une loi de Laplace de paramètres (0,1).  \n",
    "  \n",
    "Comme $S_i = T_{(i)} - T_{(i-1)}$ avec les $T_{(i)}$ indépendants et de même loi exponentielle de paramètre 1, on en déduit que $S_i$ suit une loi de Laplace de paramètre (0,1)."
   ]
  },
  {
   "cell_type": "markdown",
   "metadata": {},
   "source": [
    "### Question 3)"
   ]
  },
  {
   "cell_type": "markdown",
   "metadata": {},
   "source": [
    "On remarque que $T_{(N)} = \\sum_{i=0}^N S_i$.  \n",
    "\n",
    "D'où, $X_n = n - cT_{(N)} = n - \\sum_{i=0}^N S_i$.  \n",
    "Or, n est $\\mathcal{F}_n$-mesurable $\\forall n \\in \\mathbb{N}$ et $S_n$ a pour filtration naturelle $(\\mathcal{F}_n)$$_{n \\in \\mathbb{N}}$.  \n",
    "Donc $(X_n)$$_{n \\in \\mathbb{N}}$ est adaptée à la filtration $(\\mathcal{F}_n)$$_{n \\in \\mathbb{N}}$.  \n",
    "  \n",
    "  \n",
    "On montre maintenant que $(X_n)$$_n$ est intégrable $\\forall n \\in 0 \\le n \\le N$.  \n",
    "\\begin{align}\n",
    "\\mathbb{E}[\\lvert X_n \\rvert] & = \\mathbb{E}[\\lvert n - cT_{(n)} \\rvert]\\\\\n",
    "& \\leq  \\mathbb{E}[\\lvert n + cT_{(n)} \\rvert]\\\\\n",
    "& \\leq n + c\\mathbb{E}[\\lvert T_{(n)} \\rvert]\\\\\n",
    "& = n + c\\\\\n",
    "& \\le N + c\\\\\n",
    "& < \\infty\\end{align}  \n",
    "  \n",
    "Donc $(X_n)$$_n$ est bien intégrable $\\forall n \\in 0 \\le n \\le N$."
   ]
  },
  {
   "cell_type": "markdown",
   "metadata": {},
   "source": [
    "## Partie 2 : Etude numérique"
   ]
  },
  {
   "cell_type": "code",
   "execution_count": null,
   "metadata": {},
   "outputs": [],
   "source": []
  }
 ],
 "metadata": {
  "kernelspec": {
   "display_name": "Python 3",
   "language": "python",
   "name": "python3"
  },
  "language_info": {
   "codemirror_mode": {
    "name": "ipython",
    "version": 3
   },
   "file_extension": ".py",
   "mimetype": "text/x-python",
   "name": "python",
   "nbconvert_exporter": "python",
   "pygments_lexer": "ipython3",
   "version": "3.7.4"
  }
 },
 "nbformat": 4,
 "nbformat_minor": 2
}
